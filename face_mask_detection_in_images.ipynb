{
 "cells": [
  {
   "cell_type": "markdown",
   "metadata": {},
   "source": [
    "# Implementing our COVID-19 face mask detector for images with OpenCV"
   ]
  },
  {
   "cell_type": "markdown",
   "metadata": {},
   "source": [
    "Imports Libraries"
   ]
  },
  {
   "cell_type": "code",
   "execution_count": 1,
   "metadata": {},
   "outputs": [],
   "source": [
    "import os\n",
    "import cv2\n",
    "import argparse\n",
    "import numpy as np\n",
    "\n",
    "from tensorflow.keras.models import load_model\n",
    "from tensorflow.keras.preprocessing.image import img_to_array\n",
    "from tensorflow.keras.applications.mobilenet_v2 import preprocess_input"
   ]
  },
  {
   "cell_type": "markdown",
   "metadata": {},
   "source": [
    "Argument Parser(command line arguments)"
   ]
  },
  {
   "cell_type": "code",
   "execution_count": 8,
   "metadata": {},
   "outputs": [],
   "source": [
    "ap=argparse.ArgumentParser()\n",
    "\n",
    "ap.add_argument(\"--image\",required=True,help=\"path of the input image\")\n",
    "ap.add_argument(\"--face\",required=True,\n",
    "                help=\"path to face detector model directory\")\n",
    "ap.add_argument(\"--prototxt\",required=True,help=\"path to prototxt\")\n",
    "ap.add_argument(\"--model\",type=str,default=\"mask_detector.model\",\n",
    "                help=\"path to train mask detector model\")\n",
    "\n",
    "args=vars(ap.parse_args(args=[\"--image\",r\"C:\\Users\\SRKT\\Downloads\\img1_fb.jpg\",\n",
    "                             \"--face\",r\"C:\\Users\\SRKT\\Desktop\\deep-learning-face-detection\\res10_300x300_ssd_iter_140000.caffemodel\",\n",
    "                             \"--prototxt\",r\"C:\\Users\\SRKT\\Desktop\\deep-learning-face-detection\\deploy.prototxt.txt\",\n",
    "                             \"--model\",r\"C:\\Users\\SRKT\\Desktop\\face-mask-detector\\model.h5\"]))\n"
   ]
  },
  {
   "cell_type": "markdown",
   "metadata": {},
   "source": [
    "Load Model "
   ]
  },
  {
   "cell_type": "code",
   "execution_count": 9,
   "metadata": {},
   "outputs": [],
   "source": [
    "#face detector model\n",
    "net=cv2.dnn.readNet(args[\"prototxt\"],args[\"face\"])\n",
    "\n",
    "#face mask detector model\n",
    "model=load_model(args[\"model\"])"
   ]
  },
  {
   "cell_type": "markdown",
   "metadata": {},
   "source": [
    "load and pre-process an input image:"
   ]
  },
  {
   "cell_type": "code",
   "execution_count": 10,
   "metadata": {},
   "outputs": [],
   "source": [
    "image=cv2.imread(args[\"image\"])\n",
    "orig=image.copy()\n",
    "image=cv2.resize(image,(600,800))\n",
    "(h,w)=image.shape[:2]\n"
   ]
  },
  {
   "cell_type": "code",
   "execution_count": 11,
   "metadata": {},
   "outputs": [
    {
     "name": "stdout",
     "output_type": "stream",
     "text": [
      "[INFO] computing face detections....\n"
     ]
    }
   ],
   "source": [
    "#construct the blob from image\n",
    "blob=cv2.dnn.blobFromImage(image,1.0,(300,300),(104.0,177.0,123.0))\n",
    "\n",
    "#pass the blob through network\n",
    "print(\"[INFO] computing face detections....\")\n",
    "net.setInput(blob)\n",
    "detection=net.forward()"
   ]
  },
  {
   "cell_type": "markdown",
   "metadata": {},
   "source": [
    "[,frame,no of detections,[class id,class score,conf,x,y,h,w]]"
   ]
  },
  {
   "cell_type": "code",
   "execution_count": 12,
   "metadata": {},
   "outputs": [],
   "source": [
    "#loop over the detections\n",
    "for i in range(0,detection.shape[2]):\n",
    "    #extract the confidence (i.e.,probality) associate with the detection\n",
    "    confidence=detection[0,0,i,2]\n",
    "    \n",
    "    #filter out the weak detections by ensuring the confidence is greater then min confi=0.5\n",
    "    if confidence>0.5:\n",
    "         #compute the (x,y) co-ordinate of the bounding box for the object\n",
    "            box=detection[0,0,i,3:7]*np.array([w,h,w,h])\n",
    "            (start_x,start_y,end_x,end_y)=box.astype(\"int\")\n",
    "            \n",
    "            #ensure the bounding box fall within the dimensions of frame\n",
    "            (start_x,start_y)=(max(0,start_x),max(0,start_y))\n",
    "            (end_x,end_y)=(min(w-1,end_x),min(h-1,end_y))\n",
    "            \n",
    "            #extract the face ROI and convert it into BGR to RGB\n",
    "            face=image[start_y:end_y,start_x:end_x]\n",
    "            face=cv2.cvtColor(face,cv2.COLOR_BGR2RGB)\n",
    "            face=cv2.resize(face,(224,224))\n",
    "            face=img_to_array(face)\n",
    "            face=preprocess_input(face)\n",
    "            face=np.expand_dims(face,axis=0)\n",
    "            \n",
    "            #pass the face through the model if the face has mask or not\n",
    "            (mask,withoutMask)=model.predict(face)[0]\n",
    "            \n",
    "            #determine  the class label and color  we will draw bounding box and text.\n",
    "            label=\"Mask\" if mask>withoutMask else \"No Mask\"\n",
    "            color=(0,255,0) if label==\"Mask\" else (0,0,255)\n",
    "            \n",
    "            #include the probility in the label\n",
    "            label=\"{}: {:.2f}%\".format(label,max(mask,withoutMask)*100)\n",
    "            #display the bounding box rectangle on the output frame\n",
    "            cv2.putText(image,label,(start_x,start_y-10),cv2.FONT_HERSHEY_SIMPLEX,0.5,(255,0,0),2)\n",
    "            cv2.rectangle(image,(start_x,start_y),(end_x,end_y),color,2)\n",
    "            "
   ]
  },
  {
   "cell_type": "markdown",
   "metadata": {},
   "source": [
    "show image output"
   ]
  },
  {
   "cell_type": "code",
   "execution_count": 13,
   "metadata": {},
   "outputs": [
    {
     "data": {
      "text/plain": [
       "-1"
      ]
     },
     "execution_count": 13,
     "metadata": {},
     "output_type": "execute_result"
    }
   ],
   "source": [
    "cv2.imshow(\"image\",image)\n",
    "cv2.waitKey(0)"
   ]
  },
  {
   "cell_type": "code",
   "execution_count": null,
   "metadata": {},
   "outputs": [],
   "source": []
  },
  {
   "cell_type": "code",
   "execution_count": null,
   "metadata": {},
   "outputs": [],
   "source": []
  },
  {
   "cell_type": "code",
   "execution_count": null,
   "metadata": {},
   "outputs": [],
   "source": []
  }
 ],
 "metadata": {
  "kernelspec": {
   "display_name": "Python 3",
   "language": "python",
   "name": "python3"
  },
  "language_info": {
   "codemirror_mode": {
    "name": "ipython",
    "version": 3
   },
   "file_extension": ".py",
   "mimetype": "text/x-python",
   "name": "python",
   "nbconvert_exporter": "python",
   "pygments_lexer": "ipython3",
   "version": "3.6.5"
  }
 },
 "nbformat": 4,
 "nbformat_minor": 2
}
