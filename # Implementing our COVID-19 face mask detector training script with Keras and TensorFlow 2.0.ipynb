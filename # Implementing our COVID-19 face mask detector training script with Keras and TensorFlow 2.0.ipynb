{
 "cells": [
  {
   "cell_type": "markdown",
   "metadata": {},
   "source": [
    "#  COVID-19: Face Mask Detector with OpenCV, Keras/TensorFlow, and Deep Learning Code"
   ]
  },
  {
   "cell_type": "markdown",
   "metadata": {},
   "source": [
    "first we will train our model then used for detections "
   ]
  },
  {
   "cell_type": "markdown",
   "metadata": {},
   "source": [
    "Training: Here we’ll focus on loading our face mask detection dataset from disk, training a model (using Keras/TensorFlow) on this dataset, and then serializing the face mask detector to disk\n",
    "\n",
    "\n",
    "Deployment: Once the face mask detector is trained, we can then move on to loading the mask detector, performing face detection, and then classifying each face as with_mask\n",
    "or without_mask"
   ]
  },
  {
   "cell_type": "markdown",
   "metadata": {},
   "source": [
    "# Implementing our COVID-19 face mask detector training script with Keras and TensorFlow 2.0"
   ]
  },
  {
   "cell_type": "markdown",
   "metadata": {},
   "source": [
    "Imports Libraries"
   ]
  },
  {
   "cell_type": "code",
   "execution_count": 1,
   "metadata": {},
   "outputs": [],
   "source": [
    "import os\n",
    "import argparse\n",
    "import numpy as np\n",
    "from imutils import paths\n",
    "\n",
    "import matplotlib.pyplot as plt\n",
    "\n",
    "from sklearn.preprocessing import LabelBinarizer\n",
    "from sklearn.model_selection import train_test_split\n",
    "from sklearn.metrics import classification_report\n",
    "\n",
    "from tensorflow.keras.preprocessing.image import ImageDataGenerator\n",
    "from tensorflow.keras.applications import MobileNetV2\n",
    "from tensorflow.keras.layers import Dense\n",
    "from tensorflow.keras.layers import Flatten\n",
    "from tensorflow.keras.layers import AveragePooling2D\n",
    "from tensorflow.keras.layers import Dropout\n",
    "from tensorflow.keras.layers import Input\n",
    "from tensorflow.keras.models import Model\n",
    "from tensorflow.keras.optimizers import Adam\n",
    "from tensorflow.keras.applications.mobilenet_v2 import preprocess_input\n",
    "from tensorflow.keras.preprocessing.image import load_img\n",
    "from tensorflow.keras.preprocessing.image import img_to_array\n",
    "from tensorflow.keras.utils import to_categorical\n"
   ]
  },
  {
   "cell_type": "markdown",
   "metadata": {},
   "source": [
    " load and pre-process our training data:"
   ]
  },
  {
   "cell_type": "markdown",
   "metadata": {},
   "source": [
    "#grab the list of images in our dataset directory, then initialize\n",
    "#the list of data (i.e., images) and class images"
   ]
  },
  {
   "cell_type": "code",
   "execution_count": 2,
   "metadata": {},
   "outputs": [],
   "source": [
    "image_Paths = list(paths.list_images(r\"C:\\Users\\SRKT\\Desktop\\face-mask-detector\\face-mask-detector\\dataset\"))\n",
    "data = []\n",
    "labels = []\n",
    "# loop over the image paths\n",
    "for image_Path in image_Paths:\n",
    "    # extract the class label from the filename\n",
    "    label = image_Path.split(os.path.sep)[-2]\n",
    "    \n",
    "    #load the input image(224,224) and preprocess it\n",
    "    image=load_img(image_Path,target_size=(224,224))\n",
    "    image=img_to_array(image)\n",
    "    image=preprocess_input(image)\n",
    "    \n",
    "    #update data and labels\n",
    "    labels.append(label)\n",
    "    data.append(image)\n",
    "\n",
    "    \n",
    "#convert the data and labels into  numpy arrays\n",
    "data=np.array(data,dtype=\"float32\")\n",
    "labels=np.array(labels)\n",
    "    \n"
   ]
  },
  {
   "cell_type": "markdown",
   "metadata": {},
   "source": [
    "hyperparameters "
   ]
  },
  {
   "cell_type": "code",
   "execution_count": 3,
   "metadata": {},
   "outputs": [],
   "source": [
    "batch_size=20\n",
    "epochs=20\n",
    "lr=1e-4"
   ]
  },
  {
   "cell_type": "markdown",
   "metadata": {},
   "source": [
    "encode our labels\n",
    ", partition our dataset, and prepare for data augmentation:"
   ]
  },
  {
   "cell_type": "code",
   "execution_count": 4,
   "metadata": {},
   "outputs": [],
   "source": [
    "#perform one hot encoding on the labels\n",
    "lb=LabelBinarizer()\n",
    "labels=lb.fit_transform(labels)\n",
    "labels=to_categorical(labels)\n",
    "\n",
    "#spliting data in training and testing\n",
    "(x_train,x_test,y_train,y_test)=train_test_split(data,labels,test_size=0.2,stratify=labels,\n",
    "                                              random_state=42)\n",
    "\n",
    "\n",
    "#construct the training image data generator for data augmentation\n",
    "aug_data=ImageDataGenerator(rotation_range=20,\n",
    "                           zoom_range=0.15,\n",
    "                           width_shift_range=0.2,\n",
    "                           height_shift_range=0.2,\n",
    "                           shear_range=0.15,\n",
    "                           horizontal_flip=True,\n",
    "                           fill_mode='nearest')"
   ]
  },
  {
   "cell_type": "markdown",
   "metadata": {},
   "source": [
    "MobileNetV2 transfer learning with fine-tuning "
   ]
  },
  {
   "cell_type": "code",
   "execution_count": 9,
   "metadata": {},
   "outputs": [],
   "source": [
    "#load the MobileNetV2 network ensuring the head FC  layer sets are left off\n",
    "base_Model=MobileNetV2(weights=\"imagenet\",include_top=False,\n",
    "                      input_tensor=Input(shape=(224,224,3)))\n",
    "\n",
    "#construct the head model and placed in top of the base model\n",
    "head_Model=base_Model.output\n",
    "head_Model=AveragePooling2D(pool_size=(7,7))(head_Model)\n",
    "head_Model=Flatten(name=\"Flatten\")(head_Model)\n",
    "head_Model=Dense(128,activation='relu')(head_Model)\n",
    "head_Model=Dropout(0.5)(head_Model)\n",
    "head_Model=Dense(2,activation=\"softmax\")(head_Model)\n",
    "\n",
    "#place the head FC model on top of base model (this will actual model we will train)\n",
    "model=Model(inputs=base_Model.input,outputs=head_Model)\n",
    "\n",
    "#loop over all the layers in the base model and freeze them so they will not be updated during first training\n",
    "for layer in base_Model.layers:\n",
    "    layer.trainable=False"
   ]
  },
  {
   "cell_type": "markdown",
   "metadata": {},
   "source": [
    "compile and train our face mask detector network"
   ]
  },
  {
   "cell_type": "code",
   "execution_count": 13,
   "metadata": {},
   "outputs": [
    {
     "name": "stdout",
     "output_type": "stream",
     "text": [
      "[INFO] compiling our model\n",
      "[INFO] training head....\n",
      "Train on 1100 samples, validate on 276 samples\n",
      "Epoch 1/20\n"
     ]
    },
    {
     "name": "stderr",
     "output_type": "stream",
     "text": [
      "WARNING: Logging before flag parsing goes to stderr.\n",
      "W0512 22:10:47.233421 13560 deprecation.py:323] From c:\\python36\\lib\\site-packages\\tensorflow_core\\python\\ops\\math_grad.py:1394: where (from tensorflow.python.ops.array_ops) is deprecated and will be removed in a future version.\n",
      "Instructions for updating:\n",
      "Use tf.where in 2.0, which has the same broadcast rule as np.where\n"
     ]
    },
    {
     "name": "stdout",
     "output_type": "stream",
     "text": [
      "1100/1100 [==============================] - 170s 155ms/sample - loss: 0.6576 - accuracy: 0.6600 - val_loss: 0.3425 - val_accuracy: 0.8615\n",
      "Epoch 2/20\n",
      "1100/1100 [==============================] - 136s 124ms/sample - loss: 0.3629 - accuracy: 0.8436 - val_loss: 0.2973 - val_accuracy: 0.8462\n",
      "Epoch 3/20\n",
      "1100/1100 [==============================] - 137s 125ms/sample - loss: 0.2639 - accuracy: 0.8955 - val_loss: 0.1499 - val_accuracy: 0.9615\n",
      "Epoch 4/20\n",
      "1100/1100 [==============================] - 136s 124ms/sample - loss: 0.2316 - accuracy: 0.9036 - val_loss: 0.1478 - val_accuracy: 0.9385\n",
      "Epoch 5/20\n",
      "1100/1100 [==============================] - 136s 124ms/sample - loss: 0.1963 - accuracy: 0.9200 - val_loss: 0.1397 - val_accuracy: 0.9423\n",
      "Epoch 6/20\n",
      "1100/1100 [==============================] - 135s 123ms/sample - loss: 0.1834 - accuracy: 0.9327 - val_loss: 0.0957 - val_accuracy: 0.9692\n",
      "Epoch 7/20\n",
      "1100/1100 [==============================] - 135s 122ms/sample - loss: 0.1503 - accuracy: 0.9400 - val_loss: 0.1582 - val_accuracy: 0.9423\n",
      "Epoch 8/20\n",
      "1100/1100 [==============================] - 135s 123ms/sample - loss: 0.1673 - accuracy: 0.9409 - val_loss: 0.1258 - val_accuracy: 0.9423\n",
      "Epoch 9/20\n",
      "1100/1100 [==============================] - 136s 124ms/sample - loss: 0.1482 - accuracy: 0.9418 - val_loss: 0.0932 - val_accuracy: 0.9577\n",
      "Epoch 10/20\n",
      "1100/1100 [==============================] - 138s 125ms/sample - loss: 0.1216 - accuracy: 0.9573 - val_loss: 0.1143 - val_accuracy: 0.9500\n",
      "Epoch 11/20\n",
      "1100/1100 [==============================] - 142s 129ms/sample - loss: 0.1330 - accuracy: 0.9427 - val_loss: 0.0650 - val_accuracy: 0.9769\n",
      "Epoch 12/20\n",
      "1100/1100 [==============================] - 139s 126ms/sample - loss: 0.1190 - accuracy: 0.9555 - val_loss: 0.1105 - val_accuracy: 0.9577\n",
      "Epoch 13/20\n",
      "1100/1100 [==============================] - 137s 124ms/sample - loss: 0.1217 - accuracy: 0.9564 - val_loss: 0.0703 - val_accuracy: 0.9731\n",
      "Epoch 14/20\n",
      "1100/1100 [==============================] - 136s 124ms/sample - loss: 0.1110 - accuracy: 0.9591 - val_loss: 0.0593 - val_accuracy: 0.9769\n",
      "Epoch 15/20\n",
      "1100/1100 [==============================] - 136s 124ms/sample - loss: 0.0960 - accuracy: 0.9645 - val_loss: 0.0522 - val_accuracy: 0.9808\n",
      "Epoch 16/20\n",
      "1100/1100 [==============================] - 136s 123ms/sample - loss: 0.1093 - accuracy: 0.9564 - val_loss: 0.0466 - val_accuracy: 0.9846\n",
      "Epoch 17/20\n",
      "1100/1100 [==============================] - 135s 123ms/sample - loss: 0.1092 - accuracy: 0.9582 - val_loss: 0.0581 - val_accuracy: 0.9769\n",
      "Epoch 18/20\n",
      "1100/1100 [==============================] - 135s 123ms/sample - loss: 0.0959 - accuracy: 0.9627 - val_loss: 0.0587 - val_accuracy: 0.9769\n",
      "Epoch 19/20\n",
      "1100/1100 [==============================] - 135s 123ms/sample - loss: 0.0989 - accuracy: 0.9573 - val_loss: 0.0676 - val_accuracy: 0.9769\n",
      "Epoch 20/20\n",
      "1100/1100 [==============================] - 138s 125ms/sample - loss: 0.0873 - accuracy: 0.9636 - val_loss: 0.0419 - val_accuracy: 0.9846\n"
     ]
    }
   ],
   "source": [
    "#compile our model\n",
    "print(\"[INFO] compiling our model\")\n",
    "opt=Adam(lr=lr,decay=lr/batch_size)\n",
    "model.compile(loss=\"binary_crossentropy\",optimizer=opt,metrics=[\"accuracy\"])\n",
    "\n",
    "#train the head of the network\n",
    "print(\"[INFO] training head....\")\n",
    "H=model.fit(\n",
    "            aug_data.flow(x_train,y_train,batch_size=batch_size),\n",
    "            steps_per_epoch=len(x_train)//batch_size,\n",
    "            validation_data=(x_test,y_test),\n",
    "            validation_steps=len(x_test)//batch_size,\n",
    "            epochs=epochs)"
   ]
  },
  {
   "cell_type": "markdown",
   "metadata": {},
   "source": [
    "evaluate the resulting model on the test set:"
   ]
  },
  {
   "cell_type": "code",
   "execution_count": 21,
   "metadata": {},
   "outputs": [
    {
     "name": "stdout",
     "output_type": "stream",
     "text": [
      "[INFO] evaluating networks\n",
      "              precision    recall  f1-score   support\n",
      "\n",
      "   with_mask       0.98      0.99      0.99       138\n",
      "without_mask       0.99      0.98      0.99       138\n",
      "\n",
      "    accuracy                           0.99       276\n",
      "   macro avg       0.99      0.99      0.99       276\n",
      "weighted avg       0.99      0.99      0.99       276\n",
      "\n"
     ]
    }
   ],
   "source": [
    "#making the predictions on testing set\n",
    "print(\"[INFO] evaluating networks\")\n",
    "predIdxs=model.predict(x_test,batch_size=batch_size)\n",
    "\n",
    "#for each image in the testing set we need to find the index of the label corresponding largest prediction prob.\n",
    "predIdxs=np.argmax(predIdxs,axis=1)\n",
    "\n",
    "#classification result\n",
    "print(classification_report(y_test.argmax(axis=1),predIdxs,target_names=lb.classes_))\n",
    "\n"
   ]
  },
  {
   "cell_type": "code",
   "execution_count": 29,
   "metadata": {},
   "outputs": [
    {
     "name": "stdout",
     "output_type": "stream",
     "text": [
      "[INFO] saving our model\n"
     ]
    }
   ],
   "source": [
    "#save the model weight and model architecture together into single file H5 file\n",
    "print(\"[INFO] saving our model\")\n",
    "model.save(r\"C:\\Users\\SRKT\\Desktop\\face-mask-detector\\model.h5\")"
   ]
  },
  {
   "cell_type": "markdown",
   "metadata": {},
   "source": [
    " plot our accuracy and loss curves:"
   ]
  },
  {
   "cell_type": "code",
   "execution_count": 37,
   "metadata": {},
   "outputs": [
    {
     "data": {
      "image/png": "[encoded data removed]",
      "text/plain": [
       "<Figure size 432x288 with 1 Axes>"
      ]
     },
     "metadata": {},
     "output_type": "display_data"
    }
   ],
   "source": [
    "#plot the training loss and accuracy\n",
    "n=epochs\n",
    "plt.style.use(\"ggplot\")\n",
    "plt.figure()\n",
    "plt.plot(np.arange(0,n),H.history[\"loss\"],label=\"train_loss\")\n",
    "plt.plot(np.arange(0,n),H.history[\"val_loss\"],label=\"val_loss\")\n",
    "plt.plot(np.arange(0,n),H.history[\"accuracy\"],label=\"train_acc\")\n",
    "plt.plot(np.arange(0,n),H.history[\"val_accuracy\"],label=\"val_acc\")\n",
    "plt.xlabel(\"epoch\")\n",
    "plt.ylabel(\"Loss/Accuracy\")\n",
    "plt.legend()\n",
    "plt.show()\n"
   ]
  },
  {
   "cell_type": "code",
   "execution_count": null,
   "metadata": {},
   "outputs": [],
   "source": []
  }
 ],
 "metadata": {
  "kernelspec": {
   "display_name": "Python 3",
   "language": "python",
   "name": "python3"
  },
  "language_info": {
   "codemirror_mode": {
    "name": "ipython",
    "version": 3
   },
   "file_extension": ".py",
   "mimetype": "text/x-python",
   "name": "python",
   "nbconvert_exporter": "python",
   "pygments_lexer": "ipython3",
   "version": "3.6.5"
  }
 },
 "nbformat": 4,
 "nbformat_minor": 2
}
